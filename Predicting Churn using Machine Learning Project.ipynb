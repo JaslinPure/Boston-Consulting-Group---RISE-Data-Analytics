{
 "cells": [
  {
   "cell_type": "markdown",
   "metadata": {
    "id": "24wfNhkGd14N"
   },
   "source": [
    "# Mini Project 3  - IU 4.6 Machine Learning"
   ]
  },
  {
   "cell_type": "markdown",
   "metadata": {
    "id": "-eYCprukd14O"
   },
   "source": [
    "## Packages and setup"
   ]
  },
  {
   "cell_type": "code",
   "execution_count": 1,
   "metadata": {
    "executionInfo": {
     "elapsed": 473,
     "status": "ok",
     "timestamp": 1630564684399,
     "user": {
      "displayName": "Chandni Jaga",
      "photoUrl": "https://lh3.googleusercontent.com/a-/AOh14Gh50a-5omL5lMwUSA0VOsdWxm-vZcoemMztw4tbhSA=s64",
      "userId": "17270050648629146011"
     },
     "user_tz": -480
    },
    "id": "DjuffBS3d14P"
   },
   "outputs": [],
   "source": [
    "import numpy as np\n",
    "import pandas as pd \n",
    "import seaborn as sns\n",
    "import matplotlib.pyplot as plt\n",
    "import os\n",
    "from scipy.stats import shapiro\n",
    "import scipy.stats as stats\n",
    "import math\n",
    "from sklearn import preprocessing\n",
    "import sklearn.model_selection as ms\n",
    "from sklearn import linear_model\n",
    "import sklearn.metrics as sklm\n",
    "import scikitplot as skplt\n",
    "from sklearn.naive_bayes import GaussianNB\n",
    "\n",
    "\n",
    "#parameter settings\n",
    "from IPython.core.interactiveshell import InteractiveShell\n",
    "InteractiveShell.ast_node_interactivity = \"all\"\n",
    "import warnings\n",
    "warnings.filterwarnings(\"ignore\")\n",
    "warnings.simplefilter(action='ignore', category=FutureWarning)"
   ]
  },
  {
   "cell_type": "markdown",
   "metadata": {},
   "source": [
    "## This notebook requires running the following command to install scikitplot.\n",
    "## conda install -c conda-forge scikit-plot"
   ]
  },
  {
   "cell_type": "markdown",
   "metadata": {
    "id": "8kekftx4d14T"
   },
   "source": [
    "## Reading data and initial processing"
   ]
  },
  {
   "cell_type": "code",
   "execution_count": 2,
   "metadata": {
    "executionInfo": {
     "elapsed": 581,
     "status": "ok",
     "timestamp": 1630564685291,
     "user": {
      "displayName": "Chandni Jaga",
      "photoUrl": "https://lh3.googleusercontent.com/a-/AOh14Gh50a-5omL5lMwUSA0VOsdWxm-vZcoemMztw4tbhSA=s64",
      "userId": "17270050648629146011"
     },
     "user_tz": -480
    },
    "id": "zvzZtCDhd14U"
   },
   "outputs": [],
   "source": [
    "#edit the file location of raw data set\n",
    "cust_df=pd.read_csv('Mini_project_3_Data.csv')"
   ]
  },
  {
   "cell_type": "markdown",
   "metadata": {
    "id": "OVstu_pgd14V"
   },
   "source": [
    "## Exercise"
   ]
  },
  {
   "cell_type": "markdown",
   "metadata": {
    "id": "KfGjO2afd14e"
   },
   "source": [
    "## Q1. Detect and resolve problems in the data (Missing value, Outliers, Unexpected value, etc.)"
   ]
  },
  {
   "cell_type": "code",
   "execution_count": 3,
   "metadata": {},
   "outputs": [
    {
     "name": "stdout",
     "output_type": "stream",
     "text": [
      "The dataframe has 51047 rows and 58 columns\n",
      "\n",
      "Total number of unique customer records : 51047 \n",
      "\n",
      "Total number of features : 57 (excluding 'Churn')\n",
      "\n",
      "Total number of MISSING values : 3515 \n",
      "\n"
     ]
    }
   ],
   "source": [
    "# Type your code here to explore and understand the data better\n",
    "\n",
    "#e.g., identify the dimension of cust_df\n",
    "print('The dataframe has',cust_df.shape[0],'rows and',cust_df.shape[1] ,'columns\\n')\n",
    "#Print number of rows in cust_df\n",
    "print('Total number of unique customer records :',cust_df.CustomerID.nunique(),'\\n')\n",
    "#Print number of features in cust_df\n",
    "print('Total number of features :',cust_df.shape[1]-1,'(excluding \\'Churn\\')\\n')\n",
    "#Print total number of missing values\n",
    "#print(f\"Missing Values: {cust_df.isnull().values.sum()} \\n\")\n",
    "print('Total number of MISSING values :',cust_df.isnull().values.sum(),'\\n')\n",
    "#Print number of unique values per feature\n",
    "#print('Total number of UNIQUE values for each feature:\\n',cust_df.nunique(),'\\n')"
   ]
  },
  {
   "cell_type": "markdown",
   "metadata": {
    "id": "LIVHuO6Ld14X"
   },
   "source": [
    "## Checking if our churn breakdown is balanced."
   ]
  },
  {
   "cell_type": "code",
   "execution_count": 4,
   "metadata": {},
   "outputs": [
    {
     "data": {
      "text/plain": [
       "No     71.18146\n",
       "Yes    28.81854\n",
       "Name: Churn, dtype: float64"
      ]
     },
     "execution_count": 4,
     "metadata": {},
     "output_type": "execute_result"
    }
   ],
   "source": [
    "churn_brkdown = cust_df.Churn\n",
    "churn_brkdown.value_counts()/len(churn_brkdown)*100"
   ]
  },
  {
   "cell_type": "markdown",
   "metadata": {},
   "source": [
    "Looks like there is a class imbalance for Churn."
   ]
  },
  {
   "cell_type": "markdown",
   "metadata": {
    "id": "TmNvfoKad14e"
   },
   "source": [
    "### Q1.1 How many customers had zero monthly revenue?"
   ]
  },
  {
   "cell_type": "code",
   "execution_count": 5,
   "metadata": {
    "colab": {
     "base_uri": "https://localhost:8080/"
    },
    "executionInfo": {
     "elapsed": 27,
     "status": "ok",
     "timestamp": 1630564685975,
     "user": {
      "displayName": "Chandni Jaga",
      "photoUrl": "https://lh3.googleusercontent.com/a-/AOh14Gh50a-5omL5lMwUSA0VOsdWxm-vZcoemMztw4tbhSA=s64",
      "userId": "17270050648629146011"
     },
     "user_tz": -480
    },
    "id": "JYwQav2vd14e",
    "outputId": "0b57c75a-0a33-40b1-df3c-422aff6c3621"
   },
   "outputs": [
    {
     "name": "stdout",
     "output_type": "stream",
     "text": [
      "9 customers had zero or negative monthly revenue\n"
     ]
    }
   ],
   "source": [
    "#How many customers had zero monthly revenue?\n",
    "\n",
    "mthly_rev_lte0 = (cust_df['MonthlyRevenue'] <= 0).sum()\n",
    "\n",
    "print(mthly_rev_lte0,'customers had zero or negative monthly revenue')"
   ]
  },
  {
   "cell_type": "code",
   "execution_count": 6,
   "metadata": {},
   "outputs": [],
   "source": [
    "#Exclude the customers with zero monthly revenue from cust_df and from any subsequent analysis\n",
    "\n",
    "cust_df = cust_df[ cust_df['MonthlyRevenue'] > 0 ]"
   ]
  },
  {
   "cell_type": "code",
   "execution_count": 7,
   "metadata": {
    "colab": {
     "base_uri": "https://localhost:8080/"
    },
    "executionInfo": {
     "elapsed": 11,
     "status": "ok",
     "timestamp": 1630564685975,
     "user": {
      "displayName": "Chandni Jaga",
      "photoUrl": "https://lh3.googleusercontent.com/a-/AOh14Gh50a-5omL5lMwUSA0VOsdWxm-vZcoemMztw4tbhSA=s64",
      "userId": "17270050648629146011"
     },
     "user_tz": -480
    },
    "id": "FzOK5GLQd14f",
    "outputId": "211519fe-0a2e-480b-e39e-edfabf97ecca"
   },
   "outputs": [
    {
     "data": {
      "text/plain": [
       "(50882, 58)"
      ]
     },
     "execution_count": 7,
     "metadata": {},
     "output_type": "execute_result"
    }
   ],
   "source": [
    "# Drop 156 rows of NaN values in Monthly Revenue (=0.3% of observations)\n",
    "cust_df=cust_df.dropna(subset=['MonthlyRevenue']) # 50882 by 58 \n",
    "cust_df.shape"
   ]
  },
  {
   "cell_type": "markdown",
   "metadata": {
    "id": "Deqs8mhsd14g"
   },
   "source": [
    "### Q1.2 How many columns has missing values percentage > 5%"
   ]
  },
  {
   "cell_type": "code",
   "execution_count": 8,
   "metadata": {
    "executionInfo": {
     "elapsed": 4,
     "status": "ok",
     "timestamp": 1630564685975,
     "user": {
      "displayName": "Chandni Jaga",
      "photoUrl": "https://lh3.googleusercontent.com/a-/AOh14Gh50a-5omL5lMwUSA0VOsdWxm-vZcoemMztw4tbhSA=s64",
      "userId": "17270050648629146011"
     },
     "user_tz": -480
    },
    "id": "syKDroQsd14g"
   },
   "outputs": [],
   "source": [
    "#Calculate for each column % of missing value in the data\n",
    "#How many columns has missing values percentage > 5%\n",
    "#What strategy should be used for imputation?\n",
    "\n",
    "## These two columns have values with 'Unknown' and are replaced with NaN values before computation of % missing values\n",
    "\n",
    "cust_df = cust_df.replace({\n",
    "                'HandsetPrice':'Unknown',\n",
    "                'MaritalStatus':'Unknown'\n",
    "                },np.NaN)"
   ]
  },
  {
   "cell_type": "code",
   "execution_count": 9,
   "metadata": {
    "colab": {
     "base_uri": "https://localhost:8080/"
    },
    "executionInfo": {
     "elapsed": 510,
     "status": "ok",
     "timestamp": 1630564686481,
     "user": {
      "displayName": "Chandni Jaga",
      "photoUrl": "https://lh3.googleusercontent.com/a-/AOh14Gh50a-5omL5lMwUSA0VOsdWxm-vZcoemMztw4tbhSA=s64",
      "userId": "17270050648629146011"
     },
     "user_tz": -480
    },
    "id": "-8FsJWAPd14h",
    "outputId": "c673c982-d4e9-42cf-86e0-bdc605669134",
    "scrolled": true
   },
   "outputs": [
    {
     "name": "stdout",
     "output_type": "stream",
     "text": [
      "The columns with missing values greater than 5% are: {'HandsetPrice': '56.83%', 'MaritalStatus': '38.6%'}\n"
     ]
    }
   ],
   "source": [
    "dict_cols={}\n",
    "for col in cust_df.columns:\n",
    "    x = cust_df[col].isnull().sum()/cust_df.shape[0] *100 # percent null in that col\n",
    "    if x> 5:\n",
    "        dict_cols[col] = str(round(x,2))+'%'\n",
    "print('The columns with missing values greater than 5% are:',dict_cols)"
   ]
  },
  {
   "cell_type": "markdown",
   "metadata": {
    "id": "Vm_bpovmd14h"
   },
   "source": [
    "<mark>__Result:__\n",
    "    \n",
    "- There are 2 columns with missing values > 5%:'HandsetPrice': '56.83%', 'MaritalStatus': '38.6%'  \n",
    "    \n",
    "Strategy for imputation:\n",
    "1. For columns that are NOT significant and have missing values more than 30%, we will remove them.\n",
    "2. For numerical columns, we can interpolate or use mean, median , etc to interpolate the missing values\n",
    "3. For categorical, we can use mode to impute these missing values\n",
    "4. KNN can also be used to fill in the missing values"
   ]
  },
  {
   "cell_type": "markdown",
   "metadata": {
    "id": "dWAO7USLd14i"
   },
   "source": [
    "### Q1.3 For columns, \"UniqueSubs\" and \"DirectorAssistedCalls\" remove outliers, if any"
   ]
  },
  {
   "cell_type": "code",
   "execution_count": 10,
   "metadata": {
    "colab": {
     "base_uri": "https://localhost:8080/",
     "height": 282
    },
    "executionInfo": {
     "elapsed": 10,
     "status": "ok",
     "timestamp": 1630564686482,
     "user": {
      "displayName": "Chandni Jaga",
      "photoUrl": "https://lh3.googleusercontent.com/a-/AOh14Gh50a-5omL5lMwUSA0VOsdWxm-vZcoemMztw4tbhSA=s64",
      "userId": "17270050648629146011"
     },
     "user_tz": -480
    },
    "id": "zYWIxCBTd14i",
    "outputId": "45418b73-1cf7-46c1-d0d9-33c8870fa6af"
   },
   "outputs": [
    {
     "data": {
      "text/plain": [
       "<AxesSubplot:>"
      ]
     },
     "execution_count": 10,
     "metadata": {},
     "output_type": "execute_result"
    },
    {
     "data": {
      "text/plain": [
       "(50882, 58)"
      ]
     },
     "execution_count": 10,
     "metadata": {},
     "output_type": "execute_result"
    },
    {
     "data": {
      "image/png": "[encoded data removed]",
      "text/plain": [
       "<Figure size 432x288 with 1 Axes>"
      ]
     },
     "metadata": {
      "needs_background": "light"
     },
     "output_type": "display_data"
    }
   ],
   "source": [
    "#plot box plot using pandas for columns \"UniqueSubs\" and \"DirectorAssistedCalls\"\n",
    "cols=[\"UniqueSubs\",\"DirectorAssistedCalls\"]\n",
    "cust_df.boxplot(column=cols)\n",
    "cust_df.shape"
   ]
  },
  {
   "cell_type": "markdown",
   "metadata": {},
   "source": [
    "There are too many outliers in the data, making it difficult to see the box plot whiskers and any potential analysis. Therefore, we will remove the top 1% outliers."
   ]
  },
  {
   "cell_type": "code",
   "execution_count": null,
   "metadata": {
    "executionInfo": {
     "elapsed": 3,
     "status": "ok",
     "timestamp": 1630564686482,
     "user": {
      "displayName": "Chandni Jaga",
      "photoUrl": "https://lh3.googleusercontent.com/a-/AOh14Gh50a-5omL5lMwUSA0VOsdWxm-vZcoemMztw4tbhSA=s64",
      "userId": "17270050648629146011"
     },
     "user_tz": -480
    },
    "id": "r4uEk3_jd14j"
   },
   "outputs": [],
   "source": [
    "#Remove top 1% outliers from the above mentioned two columns and plot the box plot again\n",
    "#Use \"quantile\" function to identify top 1% outliers"
   ]
  },
  {
   "cell_type": "code",
   "execution_count": 11,
   "metadata": {
    "colab": {
     "base_uri": "https://localhost:8080/",
     "height": 439
    },
    "executionInfo": {
     "elapsed": 709,
     "status": "ok",
     "timestamp": 1630564687189,
     "user": {
      "displayName": "Chandni Jaga",
      "photoUrl": "https://lh3.googleusercontent.com/a-/AOh14Gh50a-5omL5lMwUSA0VOsdWxm-vZcoemMztw4tbhSA=s64",
      "userId": "17270050648629146011"
     },
     "user_tz": -480
    },
    "id": "IUZ5dpjpd14j",
    "outputId": "614e37d4-8ebd-4c54-ff16-591d3d1d9ae9"
   },
   "outputs": [
    {
     "data": {
      "text/plain": [
       "(49722, 58)"
      ]
     },
     "execution_count": 11,
     "metadata": {},
     "output_type": "execute_result"
    }
   ],
   "source": [
    "# Check from which value data is have top 1% outliers\n",
    "\n",
    "q_high = cust_df['UniqueSubs'].quantile(0.99)  # Top 1% data from UniqueSubs columns-> q_high is outlier\n",
    "\n",
    "q_high1 = cust_df['DirectorAssistedCalls'].quantile(0.99) # Top 1% data from DirectorAssistedCalls columns-> q_high1 is outlier\n",
    "\n",
    "# filter the data based on the condition\n",
    "cust_df = cust_df[(cust_df['UniqueSubs']<q_high)]\n",
    "cust_df = cust_df[(cust_df['DirectorAssistedCalls']<q_high1)]\n",
    "cust_df.shape # 49 722 rows after dropping outliers"
   ]
  },
  {
   "cell_type": "code",
   "execution_count": 12,
   "metadata": {
    "colab": {
     "base_uri": "https://localhost:8080/",
     "height": 285
    },
    "executionInfo": {
     "elapsed": 29,
     "status": "ok",
     "timestamp": 1630564687190,
     "user": {
      "displayName": "Chandni Jaga",
      "photoUrl": "https://lh3.googleusercontent.com/a-/AOh14Gh50a-5omL5lMwUSA0VOsdWxm-vZcoemMztw4tbhSA=s64",
      "userId": "17270050648629146011"
     },
     "user_tz": -480
    },
    "id": "OXSxtP0kd14j",
    "outputId": "70c5908a-394e-48c1-a4db-83359a3a7f0e"
   },
   "outputs": [
    {
     "data": {
      "image/png": "[encoded data removed]",
      "text/plain": [
       "<Figure size 432x288 with 1 Axes>"
      ]
     },
     "metadata": {},
     "output_type": "display_data"
    }
   ],
   "source": [
    "import seaborn as sns\n",
    "sns.set_theme(style=\"whitegrid\")\n",
    "\n",
    "sns.boxplot(data=cust_df[[\"UniqueSubs\",\"DirectorAssistedCalls\"]],orient=\"v\",palette=\"Set2\")\n",
    "plt.show();"
   ]
  },
  {
   "cell_type": "markdown",
   "metadata": {},
   "source": [
    "The revised boxplot above shows the UniqueSubs and director Assisted Calls after 1% outliers have been removed. The whiskers are now clearly visible in the plot."
   ]
  },
  {
   "cell_type": "markdown",
   "metadata": {
    "id": "tx7Fv2jOd14n"
   },
   "source": [
    "## Q2. Perform exploratory analysis to analyze customer churn"
   ]
  },
  {
   "cell_type": "markdown",
   "metadata": {
    "id": "TSQ5CKc5d14n"
   },
   "source": [
    "### Q2.1 Does customers with high overage minutes also have high revenue?"
   ]
  },
  {
   "cell_type": "code",
   "execution_count": 13,
   "metadata": {
    "colab": {
     "base_uri": "https://localhost:8080/",
     "height": 296
    },
    "executionInfo": {
     "elapsed": 555,
     "status": "ok",
     "timestamp": 1630564687731,
     "user": {
      "displayName": "Chandni Jaga",
      "photoUrl": "https://lh3.googleusercontent.com/a-/AOh14Gh50a-5omL5lMwUSA0VOsdWxm-vZcoemMztw4tbhSA=s64",
      "userId": "17270050648629146011"
     },
     "user_tz": -480
    },
    "id": "N9QNQ0OBd14n",
    "outputId": "90c7aec4-035c-4c91-8057-919ad70b8f4c"
   },
   "outputs": [
    {
     "data": {
      "image/png": "[encoded data removed]",
      "text/plain": [
       "<Figure size 432x288 with 1 Axes>"
      ]
     },
     "metadata": {},
     "output_type": "display_data"
    }
   ],
   "source": [
    "#use scatter plot to find the correlation between monthly revenue and overage minutes\n",
    "sns.scatterplot(x = 'MonthlyRevenue', y = 'OverageMinutes', data = cust_df);"
   ]
  },
  {
   "cell_type": "code",
   "execution_count": 14,
   "metadata": {
    "colab": {
     "base_uri": "https://localhost:8080/"
    },
    "executionInfo": {
     "elapsed": 13,
     "status": "ok",
     "timestamp": 1630564687732,
     "user": {
      "displayName": "Chandni Jaga",
      "photoUrl": "https://lh3.googleusercontent.com/a-/AOh14Gh50a-5omL5lMwUSA0VOsdWxm-vZcoemMztw4tbhSA=s64",
      "userId": "17270050648629146011"
     },
     "user_tz": -480
    },
    "id": "EzYFy3HskVl1",
    "outputId": "59b81926-26e8-4fdb-8033-d87f2804efc4"
   },
   "outputs": [
    {
     "data": {
      "text/plain": [
       "(0.7843666867527471, 0.0)"
      ]
     },
     "execution_count": 14,
     "metadata": {},
     "output_type": "execute_result"
    }
   ],
   "source": [
    "from scipy.stats import pearsonr\n",
    "pearsonr(cust_df['MonthlyRevenue'], cust_df['OverageMinutes'])"
   ]
  },
  {
   "cell_type": "markdown",
   "metadata": {
    "id": "t4bVX4iVd14n"
   },
   "source": [
    "<mark>__Result:__\n",
    "    \n",
    "There is a positive correlation between Monthly Revenue and Overage Minutes (correlation coefficient of 0.788). Customers with higher overage minutes will generate higher revenues. At alpha = 0.05, the Pearson's test shows that the correlation between both are statistically significant with a p-value of 0.0."
   ]
  },
  {
   "cell_type": "markdown",
   "metadata": {
    "id": "wV0m2nSAd14n"
   },
   "source": [
    "### Q2.2 Does high number of active subscribers lead to low monthly revenue?"
   ]
  },
  {
   "cell_type": "code",
   "execution_count": 15,
   "metadata": {
    "colab": {
     "base_uri": "https://localhost:8080/",
     "height": 400
    },
    "executionInfo": {
     "elapsed": 969,
     "status": "ok",
     "timestamp": 1630564688699,
     "user": {
      "displayName": "Chandni Jaga",
      "photoUrl": "https://lh3.googleusercontent.com/a-/AOh14Gh50a-5omL5lMwUSA0VOsdWxm-vZcoemMztw4tbhSA=s64",
      "userId": "17270050648629146011"
     },
     "user_tz": -480
    },
    "id": "iZlg6v-jd14o",
    "outputId": "814223ec-8b83-421b-e97c-176b790be9bb"
   },
   "outputs": [
    {
     "data": {
      "image/png": "[encoded data removed]",
      "text/plain": [
       "<Figure size 360x360 with 1 Axes>"
      ]
     },
     "metadata": {},
     "output_type": "display_data"
    }
   ],
   "source": [
    "#use category plot to plot monthly revenue for each active subs category\n",
    "sns.catplot(x='ActiveSubs',y='MonthlyRevenue', data=cust_df); "
   ]
  },
  {
   "cell_type": "markdown",
   "metadata": {
    "id": "2T66TFS_d14o"
   },
   "source": [
    "<mark>__Result:__\n",
    "    \n",
    "Based on the category plot analysis, there is a negative correlation. As the number of Active Subscribers increases, the Monthly Revenue decreases. The plot also illustrates that there are customers with 0 Active Subscriptions who are still contributing to the company's monthly revenue.\n"
   ]
  },
  {
   "cell_type": "markdown",
   "metadata": {
    "id": "YezQiGVEd14o"
   },
   "source": [
    "### Q2.3 Does credit rating have an impact in churn rate?"
   ]
  },
  {
   "cell_type": "code",
   "execution_count": 17,
   "metadata": {
    "colab": {
     "base_uri": "https://localhost:8080/",
     "height": 373
    },
    "executionInfo": {
     "elapsed": 762,
     "status": "ok",
     "timestamp": 1630564689457,
     "user": {
      "displayName": "Chandni Jaga",
      "photoUrl": "https://lh3.googleusercontent.com/a-/AOh14Gh50a-5omL5lMwUSA0VOsdWxm-vZcoemMztw4tbhSA=s64",
      "userId": "17270050648629146011"
     },
     "user_tz": -480
    },
    "id": "Tm_k2icQBavV",
    "outputId": "43beb3b6-9056-4665-9a1e-663afae57169"
   },
   "outputs": [
    {
     "data": {
      "image/png": "[encoded data removed]",
      "text/plain": [
       "<Figure size 432x288 with 1 Axes>"
      ]
     },
     "metadata": {},
     "output_type": "display_data"
    }
   ],
   "source": [
    "#Plot 100% stacked bar chart\n",
    "\n",
    "#Create dataframe for plotting 100% stacked bar chart\n",
    "df_bar = pd.crosstab(cust_df['CreditRating'], cust_df['Churn'])\n",
    "\n",
    "stacked_data = df_bar.apply(lambda x: x*100/sum(x), axis=1)\n",
    "stacked_data.plot(kind=\"bar\", stacked=True)\n",
    "plt.title(\"Breakdown of Churn Rate by Credit Rating\")\n",
    "plt.xlabel(\"Credit Rating\")\n",
    "plt.xticks(rotation=45)\n",
    "plt.ylabel(\"% users\")\n",
    "plt.legend(['Did not churn', 'Churned'], loc='upper left', bbox_to_anchor=(1, 1),ncol = 1)\n",
    "plt.show();"
   ]
  },
  {
   "cell_type": "markdown",
   "metadata": {
    "id": "sxCCHdpzd14p"
   },
   "source": [
    "<mark>__Result:__\n",
    "    \n",
    "As we can see from the stacked bar chart, Credit rating does not have a significant impact on Churn. There is no difference in trends between both variables."
   ]
  },
  {
   "cell_type": "markdown",
   "metadata": {
    "id": "w2-vXlvBd14p"
   },
   "source": [
    "### Analysing Customer Churn Over Time"
   ]
  },
  {
   "cell_type": "code",
   "execution_count": 18,
   "metadata": {
    "colab": {
     "base_uri": "https://localhost:8080/",
     "height": 296
    },
    "executionInfo": {
     "elapsed": 818,
     "status": "ok",
     "timestamp": 1630564690261,
     "user": {
      "displayName": "Chandni Jaga",
      "photoUrl": "https://lh3.googleusercontent.com/a-/AOh14Gh50a-5omL5lMwUSA0VOsdWxm-vZcoemMztw4tbhSA=s64",
      "userId": "17270050648629146011"
     },
     "user_tz": -480
    },
    "id": "Hiz1eS9h1yFS",
    "outputId": "3c156948-3685-4511-b442-5fd05879e67f"
   },
   "outputs": [
    {
     "data": {
      "image/png": "[encoded data removed]",
      "text/plain": [
       "<Figure size 432x288 with 1 Axes>"
      ]
     },
     "metadata": {},
     "output_type": "display_data"
    }
   ],
   "source": [
    "cols = [\"MonthsInService\", \"Churn\"]\n",
    "cust_df_crosstab = pd.crosstab(index=cust_df['MonthsInService'], columns=cust_df['Churn'])\n",
    "#print(cust_df_crosstab)\n",
    "\n",
    "cust_df_crosstab.plot(kind=\"line\")\n",
    "plt.title(\"Customer Churn Over Time (mths)\")\n",
    "plt.ylabel(\"Customer Churn\")\n",
    "plt.show();"
   ]
  },
  {
   "cell_type": "markdown",
   "metadata": {},
   "source": [
    "In this plot, we can see that customer churn spikes during the first 12 months (rough approximation). Based on this preliminary analysis, we recommend focusing on ways to reduce customer churn during the first 2 yrs of their contract."
   ]
  },
  {
   "cell_type": "code",
   "execution_count": 19,
   "metadata": {},
   "outputs": [],
   "source": [
    "## Gonna drop the 206 NaN in PercChangeMinutes and PercChangeRevenues\n",
    "cust_df1 = cust_df.dropna(subset =['PercChangeMinutes', 'PercChangeRevenues'], how = 'all')\n",
    "cust_df1.dropna(subset =['CurrentEquipmentDays'],inplace=True)"
   ]
  },
  {
   "cell_type": "code",
   "execution_count": null,
   "metadata": {},
   "outputs": [],
   "source": [
    "cust_df1.shape # 49722 -206-1 = 49515 "
   ]
  },
  {
   "cell_type": "markdown",
   "metadata": {
    "id": "IDVI39Pkd14p"
   },
   "source": [
    "## Q3. Create additional features to help predict churn"
   ]
  },
  {
   "cell_type": "code",
   "execution_count": 20,
   "metadata": {},
   "outputs": [],
   "source": [
    "# Check for zero value before dividing\n",
    "def div(numerator, denominator):\n",
    "    return lambda row: 0.0 if row[denominator] == 0 else float(row[numerator]/row[denominator]*100)\n",
    "\n",
    "#wrapper function to create additional features for churn prediction\n",
    "def create_features(cust_df):\n",
    "    \n",
    "    #3.1 Percent of current active subs over total subs\n",
    "    cust_df['perc_active_subs'] = cust_df['ActiveSubs'] / cust_df['UniqueSubs']*100\n",
    "    \n",
    "    #3.2 Percent of recurrent charge to monthly charge\n",
    "    #type your code here to create a new column in cust_df\n",
    "    \n",
    "    cust_df.loc[:,'perc_recurrent_charge'] = cust_df.apply(div('TotalRecurringCharge','MonthlyRevenue'),axis =1)\n",
    "    \n",
    "    #3.3 Percent of overage minutes over total monthly minutes\n",
    "    #type your code here to create a new column in cust_df\n",
    "    \n",
    "    cust_df.loc[:,'perc_overage_minute'] = cust_df.apply(div('OverageMinutes','MonthlyMinutes'),axis =1)\n",
    "    return cust_df  "
   ]
  },
  {
   "cell_type": "code",
   "execution_count": 21,
   "metadata": {},
   "outputs": [
    {
     "data": {
      "text/html": [
       "<div>\n",
       "<style scoped>\n",
       "    .dataframe tbody tr th:only-of-type {\n",
       "        vertical-align: middle;\n",
       "    }\n",
       "\n",
       "    .dataframe tbody tr th {\n",
       "        vertical-align: top;\n",
       "    }\n",
       "\n",
       "    .dataframe thead th {\n",
       "        text-align: right;\n",
       "    }\n",
       "</style>\n",
       "<table border=\"1\" class=\"dataframe\">\n",
       "  <thead>\n",
       "    <tr style=\"text-align: right;\">\n",
       "      <th></th>\n",
       "      <th>CustomerID</th>\n",
       "      <th>Churn</th>\n",
       "      <th>MonthlyRevenue</th>\n",
       "      <th>MonthlyMinutes</th>\n",
       "      <th>TotalRecurringCharge</th>\n",
       "      <th>DirectorAssistedCalls</th>\n",
       "      <th>OverageMinutes</th>\n",
       "      <th>RoamingCalls</th>\n",
       "      <th>PercChangeMinutes</th>\n",
       "      <th>PercChangeRevenues</th>\n",
       "      <th>...</th>\n",
       "      <th>AdjustmentsToCreditRating</th>\n",
       "      <th>HandsetPrice</th>\n",
       "      <th>MadeCallToRetentionTeam</th>\n",
       "      <th>CreditRating</th>\n",
       "      <th>PrizmCode</th>\n",
       "      <th>Occupation</th>\n",
       "      <th>MaritalStatus</th>\n",
       "      <th>perc_active_subs</th>\n",
       "      <th>perc_recurrent_charge</th>\n",
       "      <th>perc_overage_minute</th>\n",
       "    </tr>\n",
       "  </thead>\n",
       "  <tbody>\n",
       "    <tr>\n",
       "      <th>0</th>\n",
       "      <td>3000002</td>\n",
       "      <td>Yes</td>\n",
       "      <td>24.00</td>\n",
       "      <td>219.0</td>\n",
       "      <td>22.0</td>\n",
       "      <td>0.25</td>\n",
       "      <td>0.0</td>\n",
       "      <td>0.0</td>\n",
       "      <td>-157.0</td>\n",
       "      <td>-19.0</td>\n",
       "      <td>...</td>\n",
       "      <td>0</td>\n",
       "      <td>30</td>\n",
       "      <td>Yes</td>\n",
       "      <td>1-Highest</td>\n",
       "      <td>Suburban</td>\n",
       "      <td>Professional</td>\n",
       "      <td>No</td>\n",
       "      <td>50.0</td>\n",
       "      <td>91.666667</td>\n",
       "      <td>0.000000</td>\n",
       "    </tr>\n",
       "    <tr>\n",
       "      <th>1</th>\n",
       "      <td>3000010</td>\n",
       "      <td>Yes</td>\n",
       "      <td>16.99</td>\n",
       "      <td>10.0</td>\n",
       "      <td>17.0</td>\n",
       "      <td>0.00</td>\n",
       "      <td>0.0</td>\n",
       "      <td>0.0</td>\n",
       "      <td>-4.0</td>\n",
       "      <td>0.0</td>\n",
       "      <td>...</td>\n",
       "      <td>0</td>\n",
       "      <td>30</td>\n",
       "      <td>No</td>\n",
       "      <td>4-Medium</td>\n",
       "      <td>Suburban</td>\n",
       "      <td>Professional</td>\n",
       "      <td>Yes</td>\n",
       "      <td>100.0</td>\n",
       "      <td>100.058858</td>\n",
       "      <td>0.000000</td>\n",
       "    </tr>\n",
       "    <tr>\n",
       "      <th>2</th>\n",
       "      <td>3000014</td>\n",
       "      <td>No</td>\n",
       "      <td>38.00</td>\n",
       "      <td>8.0</td>\n",
       "      <td>38.0</td>\n",
       "      <td>0.00</td>\n",
       "      <td>0.0</td>\n",
       "      <td>0.0</td>\n",
       "      <td>-2.0</td>\n",
       "      <td>0.0</td>\n",
       "      <td>...</td>\n",
       "      <td>0</td>\n",
       "      <td>NaN</td>\n",
       "      <td>No</td>\n",
       "      <td>3-Good</td>\n",
       "      <td>Town</td>\n",
       "      <td>Crafts</td>\n",
       "      <td>Yes</td>\n",
       "      <td>100.0</td>\n",
       "      <td>100.000000</td>\n",
       "      <td>0.000000</td>\n",
       "    </tr>\n",
       "    <tr>\n",
       "      <th>3</th>\n",
       "      <td>3000022</td>\n",
       "      <td>No</td>\n",
       "      <td>82.28</td>\n",
       "      <td>1312.0</td>\n",
       "      <td>75.0</td>\n",
       "      <td>1.24</td>\n",
       "      <td>0.0</td>\n",
       "      <td>0.0</td>\n",
       "      <td>157.0</td>\n",
       "      <td>8.1</td>\n",
       "      <td>...</td>\n",
       "      <td>0</td>\n",
       "      <td>10</td>\n",
       "      <td>No</td>\n",
       "      <td>4-Medium</td>\n",
       "      <td>Other</td>\n",
       "      <td>Other</td>\n",
       "      <td>No</td>\n",
       "      <td>100.0</td>\n",
       "      <td>91.152163</td>\n",
       "      <td>0.000000</td>\n",
       "    </tr>\n",
       "    <tr>\n",
       "      <th>4</th>\n",
       "      <td>3000026</td>\n",
       "      <td>Yes</td>\n",
       "      <td>17.14</td>\n",
       "      <td>0.0</td>\n",
       "      <td>17.0</td>\n",
       "      <td>0.00</td>\n",
       "      <td>0.0</td>\n",
       "      <td>0.0</td>\n",
       "      <td>0.0</td>\n",
       "      <td>-0.2</td>\n",
       "      <td>...</td>\n",
       "      <td>1</td>\n",
       "      <td>10</td>\n",
       "      <td>No</td>\n",
       "      <td>1-Highest</td>\n",
       "      <td>Other</td>\n",
       "      <td>Professional</td>\n",
       "      <td>Yes</td>\n",
       "      <td>100.0</td>\n",
       "      <td>99.183197</td>\n",
       "      <td>0.000000</td>\n",
       "    </tr>\n",
       "    <tr>\n",
       "      <th>...</th>\n",
       "      <td>...</td>\n",
       "      <td>...</td>\n",
       "      <td>...</td>\n",
       "      <td>...</td>\n",
       "      <td>...</td>\n",
       "      <td>...</td>\n",
       "      <td>...</td>\n",
       "      <td>...</td>\n",
       "      <td>...</td>\n",
       "      <td>...</td>\n",
       "      <td>...</td>\n",
       "      <td>...</td>\n",
       "      <td>...</td>\n",
       "      <td>...</td>\n",
       "      <td>...</td>\n",
       "      <td>...</td>\n",
       "      <td>...</td>\n",
       "      <td>...</td>\n",
       "      <td>...</td>\n",
       "      <td>...</td>\n",
       "      <td>...</td>\n",
       "    </tr>\n",
       "    <tr>\n",
       "      <th>51037</th>\n",
       "      <td>3399906</td>\n",
       "      <td>No</td>\n",
       "      <td>31.92</td>\n",
       "      <td>63.0</td>\n",
       "      <td>17.0</td>\n",
       "      <td>0.00</td>\n",
       "      <td>43.0</td>\n",
       "      <td>0.0</td>\n",
       "      <td>-38.0</td>\n",
       "      <td>-13.2</td>\n",
       "      <td>...</td>\n",
       "      <td>0</td>\n",
       "      <td>NaN</td>\n",
       "      <td>No</td>\n",
       "      <td>3-Good</td>\n",
       "      <td>Other</td>\n",
       "      <td>Other</td>\n",
       "      <td>Yes</td>\n",
       "      <td>100.0</td>\n",
       "      <td>53.258145</td>\n",
       "      <td>68.253968</td>\n",
       "    </tr>\n",
       "    <tr>\n",
       "      <th>51039</th>\n",
       "      <td>3399922</td>\n",
       "      <td>No</td>\n",
       "      <td>50.00</td>\n",
       "      <td>492.0</td>\n",
       "      <td>50.0</td>\n",
       "      <td>0.00</td>\n",
       "      <td>0.0</td>\n",
       "      <td>0.0</td>\n",
       "      <td>0.0</td>\n",
       "      <td>0.0</td>\n",
       "      <td>...</td>\n",
       "      <td>0</td>\n",
       "      <td>NaN</td>\n",
       "      <td>No</td>\n",
       "      <td>6-VeryLow</td>\n",
       "      <td>Suburban</td>\n",
       "      <td>Other</td>\n",
       "      <td>NaN</td>\n",
       "      <td>100.0</td>\n",
       "      <td>100.000000</td>\n",
       "      <td>0.000000</td>\n",
       "    </tr>\n",
       "    <tr>\n",
       "      <th>51040</th>\n",
       "      <td>3399942</td>\n",
       "      <td>No</td>\n",
       "      <td>71.99</td>\n",
       "      <td>724.0</td>\n",
       "      <td>70.0</td>\n",
       "      <td>0.00</td>\n",
       "      <td>4.0</td>\n",
       "      <td>0.9</td>\n",
       "      <td>-40.0</td>\n",
       "      <td>-2.0</td>\n",
       "      <td>...</td>\n",
       "      <td>0</td>\n",
       "      <td>NaN</td>\n",
       "      <td>No</td>\n",
       "      <td>1-Highest</td>\n",
       "      <td>Other</td>\n",
       "      <td>Professional</td>\n",
       "      <td>NaN</td>\n",
       "      <td>100.0</td>\n",
       "      <td>97.235727</td>\n",
       "      <td>0.552486</td>\n",
       "    </tr>\n",
       "    <tr>\n",
       "      <th>51041</th>\n",
       "      <td>3399946</td>\n",
       "      <td>Yes</td>\n",
       "      <td>117.49</td>\n",
       "      <td>384.0</td>\n",
       "      <td>30.0</td>\n",
       "      <td>0.00</td>\n",
       "      <td>250.0</td>\n",
       "      <td>0.0</td>\n",
       "      <td>0.0</td>\n",
       "      <td>0.0</td>\n",
       "      <td>...</td>\n",
       "      <td>0</td>\n",
       "      <td>30</td>\n",
       "      <td>No</td>\n",
       "      <td>5-Low</td>\n",
       "      <td>Other</td>\n",
       "      <td>Professional</td>\n",
       "      <td>Yes</td>\n",
       "      <td>100.0</td>\n",
       "      <td>25.534088</td>\n",
       "      <td>65.104167</td>\n",
       "    </tr>\n",
       "    <tr>\n",
       "      <th>51043</th>\n",
       "      <td>3399974</td>\n",
       "      <td>No</td>\n",
       "      <td>95.17</td>\n",
       "      <td>1745.0</td>\n",
       "      <td>85.0</td>\n",
       "      <td>0.99</td>\n",
       "      <td>45.0</td>\n",
       "      <td>4.7</td>\n",
       "      <td>122.0</td>\n",
       "      <td>15.9</td>\n",
       "      <td>...</td>\n",
       "      <td>1</td>\n",
       "      <td>60</td>\n",
       "      <td>No</td>\n",
       "      <td>3-Good</td>\n",
       "      <td>Other</td>\n",
       "      <td>Other</td>\n",
       "      <td>No</td>\n",
       "      <td>100.0</td>\n",
       "      <td>89.313859</td>\n",
       "      <td>2.578797</td>\n",
       "    </tr>\n",
       "  </tbody>\n",
       "</table>\n",
       "<p>49515 rows × 61 columns</p>\n",
       "</div>"
      ],
      "text/plain": [
       "       CustomerID Churn  MonthlyRevenue  MonthlyMinutes  TotalRecurringCharge  \\\n",
       "0         3000002   Yes           24.00           219.0                  22.0   \n",
       "1         3000010   Yes           16.99            10.0                  17.0   \n",
       "2         3000014    No           38.00             8.0                  38.0   \n",
       "3         3000022    No           82.28          1312.0                  75.0   \n",
       "4         3000026   Yes           17.14             0.0                  17.0   \n",
       "...           ...   ...             ...             ...                   ...   \n",
       "51037     3399906    No           31.92            63.0                  17.0   \n",
       "51039     3399922    No           50.00           492.0                  50.0   \n",
       "51040     3399942    No           71.99           724.0                  70.0   \n",
       "51041     3399946   Yes          117.49           384.0                  30.0   \n",
       "51043     3399974    No           95.17          1745.0                  85.0   \n",
       "\n",
       "       DirectorAssistedCalls  OverageMinutes  RoamingCalls  PercChangeMinutes  \\\n",
       "0                       0.25             0.0           0.0             -157.0   \n",
       "1                       0.00             0.0           0.0               -4.0   \n",
       "2                       0.00             0.0           0.0               -2.0   \n",
       "3                       1.24             0.0           0.0              157.0   \n",
       "4                       0.00             0.0           0.0                0.0   \n",
       "...                      ...             ...           ...                ...   \n",
       "51037                   0.00            43.0           0.0              -38.0   \n",
       "51039                   0.00             0.0           0.0                0.0   \n",
       "51040                   0.00             4.0           0.9              -40.0   \n",
       "51041                   0.00           250.0           0.0                0.0   \n",
       "51043                   0.99            45.0           4.7              122.0   \n",
       "\n",
       "       PercChangeRevenues  ...  AdjustmentsToCreditRating  HandsetPrice  \\\n",
       "0                   -19.0  ...                          0            30   \n",
       "1                     0.0  ...                          0            30   \n",
       "2                     0.0  ...                          0           NaN   \n",
       "3                     8.1  ...                          0            10   \n",
       "4                    -0.2  ...                          1            10   \n",
       "...                   ...  ...                        ...           ...   \n",
       "51037               -13.2  ...                          0           NaN   \n",
       "51039                 0.0  ...                          0           NaN   \n",
       "51040                -2.0  ...                          0           NaN   \n",
       "51041                 0.0  ...                          0            30   \n",
       "51043                15.9  ...                          1            60   \n",
       "\n",
       "       MadeCallToRetentionTeam  CreditRating  PrizmCode    Occupation  \\\n",
       "0                          Yes     1-Highest   Suburban  Professional   \n",
       "1                           No      4-Medium   Suburban  Professional   \n",
       "2                           No        3-Good       Town        Crafts   \n",
       "3                           No      4-Medium      Other         Other   \n",
       "4                           No     1-Highest      Other  Professional   \n",
       "...                        ...           ...        ...           ...   \n",
       "51037                       No        3-Good      Other         Other   \n",
       "51039                       No     6-VeryLow   Suburban         Other   \n",
       "51040                       No     1-Highest      Other  Professional   \n",
       "51041                       No         5-Low      Other  Professional   \n",
       "51043                       No        3-Good      Other         Other   \n",
       "\n",
       "       MaritalStatus  perc_active_subs  perc_recurrent_charge  \\\n",
       "0                 No              50.0              91.666667   \n",
       "1                Yes             100.0             100.058858   \n",
       "2                Yes             100.0             100.000000   \n",
       "3                 No             100.0              91.152163   \n",
       "4                Yes             100.0              99.183197   \n",
       "...              ...               ...                    ...   \n",
       "51037            Yes             100.0              53.258145   \n",
       "51039            NaN             100.0             100.000000   \n",
       "51040            NaN             100.0              97.235727   \n",
       "51041            Yes             100.0              25.534088   \n",
       "51043             No             100.0              89.313859   \n",
       "\n",
       "       perc_overage_minute  \n",
       "0                 0.000000  \n",
       "1                 0.000000  \n",
       "2                 0.000000  \n",
       "3                 0.000000  \n",
       "4                 0.000000  \n",
       "...                    ...  \n",
       "51037            68.253968  \n",
       "51039             0.000000  \n",
       "51040             0.552486  \n",
       "51041            65.104167  \n",
       "51043             2.578797  \n",
       "\n",
       "[49515 rows x 61 columns]"
      ]
     },
     "execution_count": 21,
     "metadata": {},
     "output_type": "execute_result"
    }
   ],
   "source": [
    "create_features(cust_df1) # Create additional 3 features. Updated table shape is 49515 rows with 61 columns."
   ]
  },
  {
   "cell_type": "code",
   "execution_count": 22,
   "metadata": {},
   "outputs": [
    {
     "data": {
      "text/plain": [
       "(49515, 54)"
      ]
     },
     "execution_count": 22,
     "metadata": {},
     "output_type": "execute_result"
    }
   ],
   "source": [
    "## The 6 columns below were dropped as they had no significance to Churn after EDA. These columns also \n",
    "# contained many missing values.\n",
    "\n",
    "list_of_col_drop1 = ['MaritalStatus', 'HandsetPrice','AgeHH1','AgeHH2','ServiceArea','CreditRating','IncomeGroup'] \n",
    "\n",
    "cust_df1.drop(list_of_col_drop1, axis=1,inplace=True)\n",
    "cust_df1.shape # 61 cols - 7 cols = 54 cols"
   ]
  },
  {
   "cell_type": "code",
   "execution_count": 23,
   "metadata": {},
   "outputs": [],
   "source": [
    "list_of_col_drop2 = ['CustomerID', 'Handsets','HandsetModels','ChildrenInHH','HandsetRefurbished','HandsetWebCapable','Homeownership',\n",
    "                      'NonUSTravel','OwnsComputer','HasCreditCard','NewCellphoneUser','NotNewCellphoneUser','PrizmCode']\n",
    "cust_df_final=cust_df1.drop(list_of_col_drop2, axis=1)"
   ]
  },
  {
   "cell_type": "code",
   "execution_count": 24,
   "metadata": {},
   "outputs": [
    {
     "data": {
      "text/plain": [
       "(49515, 41)"
      ]
     },
     "execution_count": 24,
     "metadata": {},
     "output_type": "execute_result"
    }
   ],
   "source": [
    "cust_df_final.shape ## Table shape update: Left with 41 columns, 49515 rows. "
   ]
  },
  {
   "cell_type": "markdown",
   "metadata": {},
   "source": [
    "### Check for NaNs and Class Balance before building the ML models "
   ]
  },
  {
   "cell_type": "code",
   "execution_count": 25,
   "metadata": {},
   "outputs": [
    {
     "name": "stdout",
     "output_type": "stream",
     "text": [
      "Number of nulls in dataframe: 0\n"
     ]
    }
   ],
   "source": [
    "print('Number of nulls in dataframe:', cust_df_final.isnull().sum().sum())"
   ]
  },
  {
   "cell_type": "code",
   "execution_count": 26,
   "metadata": {},
   "outputs": [
    {
     "name": "stdout",
     "output_type": "stream",
     "text": [
      "Churn: 28.64 %\n",
      "NON churn: 71.36 %\n"
     ]
    }
   ],
   "source": [
    "#cust_df_final['Churn'].value_counts() # 35333 vs 14182\n",
    "num_churn0, num_churn1 = cust_df_final['Churn'].value_counts()\n",
    "\n",
    "print('Churn:',round(num_churn1/cust_df_final.shape[0]*100,2),'%\\n'+'NON churn:',round(num_churn0/cust_df_final.shape[0]*100,2),'%')"
   ]
  },
  {
   "cell_type": "markdown",
   "metadata": {},
   "source": [
    "### We recognised that we have an imbalanced data set as the ratio of Churn : No Churn is approximately 3 : 7. Next step is to balance the data."
   ]
  },
  {
   "cell_type": "code",
   "execution_count": 27,
   "metadata": {},
   "outputs": [
    {
     "data": {
      "text/plain": [
       "No     35333\n",
       "Yes    35333\n",
       "Name: Churn, dtype: int64"
      ]
     },
     "execution_count": 27,
     "metadata": {},
     "output_type": "execute_result"
    }
   ],
   "source": [
    "# Balance the Churn class\n",
    "num_churn0, num_churn1 = cust_df_final['Churn'].value_counts()\n",
    "\n",
    "df_churn0 = cust_df_final[cust_df_final.Churn == 'No']\n",
    "df_churn1 = cust_df_final[cust_df_final.Churn == 'Yes']\n",
    "\n",
    "#print(df_churn0.shape,df_churn1.shape )\n",
    "\n",
    "over_samp_churn1 = df_churn1.sample(num_churn0, replace = True) # oversample for churn = 1\n",
    "\n",
    "df_merge_rows = pd.concat([over_samp_churn1,df_churn0], axis = 0)\n",
    "\n",
    "cust_df_final = df_merge_rows\n",
    "\n",
    "cust_df_final.Churn.value_counts() # check if balanced"
   ]
  },
  {
   "cell_type": "markdown",
   "metadata": {},
   "source": [
    "1:1 ratio achieved."
   ]
  },
  {
   "cell_type": "markdown",
   "metadata": {
    "id": "xbCknXKld14q"
   },
   "source": [
    "## Q4. Build classification model to predict customer churn month in advance"
   ]
  },
  {
   "cell_type": "markdown",
   "metadata": {
    "id": "nsCJUdBWd14q"
   },
   "source": [
    "### Initial data processing for model building exercise"
   ]
  },
  {
   "cell_type": "code",
   "execution_count": 28,
   "metadata": {},
   "outputs": [],
   "source": [
    "# Replace churn string values with numeric binary values\n",
    "cust_df_final.replace({\"Yes\":1, \"No\":0}, inplace = True)\n",
    "# Utilize pandas dummy variable function to create dummy variable series\n",
    "dummy_df = pd.get_dummies(cust_df_final)\n",
    "dummy_df = pd.get_dummies(cust_df_final,columns=['UniqueSubs', 'ActiveSubs','Occupation'], drop_first=True)\n",
    "# We created dummy variables for these extra cols since their dtype is int                  "
   ]
  },
  {
   "cell_type": "code",
   "execution_count": 29,
   "metadata": {},
   "outputs": [],
   "source": [
    "# Establish our target feature, churn, as our y feature\n",
    "y = dummy_df.Churn.values\n",
    "# Drop our target feature from our features dataframe\n",
    "X = dummy_df.drop('Churn', axis = 1)\n",
    "# Save dataframe for logistic regression \n",
    "X_train_logreg = X "
   ]
  },
  {
   "cell_type": "code",
   "execution_count": 30,
   "metadata": {},
   "outputs": [
    {
     "data": {
      "text/plain": [
       "(70666, 1)"
      ]
     },
     "execution_count": 30,
     "metadata": {},
     "output_type": "execute_result"
    }
   ],
   "source": [
    "y=y.reshape(-1,1)\n",
    "y.shape #y.ndim is 2"
   ]
  },
  {
   "cell_type": "code",
   "execution_count": 31,
   "metadata": {},
   "outputs": [],
   "source": [
    "## Split the data into training and testing sets\n",
    "from sklearn.model_selection import train_test_split\n",
    "X_train, X_test, y_train, y_test = train_test_split(X, y, test_size = .3, random_state =0, stratify =y )"
   ]
  },
  {
   "cell_type": "code",
   "execution_count": 32,
   "metadata": {},
   "outputs": [
    {
     "data": {
      "text/plain": [
       "(49466, 51)"
      ]
     },
     "execution_count": 32,
     "metadata": {},
     "output_type": "execute_result"
    },
    {
     "data": {
      "text/plain": [
       "(49466, 1)"
      ]
     },
     "execution_count": 32,
     "metadata": {},
     "output_type": "execute_result"
    },
    {
     "data": {
      "text/plain": [
       "(21200, 51)"
      ]
     },
     "execution_count": 32,
     "metadata": {},
     "output_type": "execute_result"
    },
    {
     "data": {
      "text/plain": [
       "(21200, 1)"
      ]
     },
     "execution_count": 32,
     "metadata": {},
     "output_type": "execute_result"
    }
   ],
   "source": [
    "X_train.shape # 49466 rows, 51 cols\n",
    "y_train.shape # 49466 rows, 1 col  \n",
    "X_test.shape # 21200 rows, 51 cols\n",
    "y_test.shape # 21200 rows, 1 col"
   ]
  },
  {
   "cell_type": "markdown",
   "metadata": {},
   "source": [
    "## Logistic Regression "
   ]
  },
  {
   "cell_type": "markdown",
   "metadata": {},
   "source": [
    "### Q4.1 Build a simple logistic regression model to predict churn and evaluate model accuracy on test data set"
   ]
  },
  {
   "cell_type": "code",
   "execution_count": 33,
   "metadata": {},
   "outputs": [],
   "source": [
    "X_train_logreg = X\n",
    "# Reorder X_train columns\n",
    "temp_col = X_train_logreg['perc_active_subs']\n",
    "X_train_logreg = X_train_logreg.drop(columns='perc_active_subs')\n",
    "X_train_logreg.insert(0, column='perc_active_subs', value=temp_col)\n",
    "\n",
    "temp_col = X_train_logreg['perc_recurrent_charge']\n",
    "X_train_logreg = X_train_logreg.drop(columns='perc_recurrent_charge')\n",
    "X_train_logreg.insert(0, column='perc_recurrent_charge', value=temp_col)\n",
    "\n",
    "temp_col = X_train_logreg['perc_overage_minute']\n",
    "X_train_logreg = X_train_logreg.drop(columns='perc_overage_minute')\n",
    "X_train_logreg.insert(0, column='perc_overage_minute', value=temp_col)"
   ]
  },
  {
   "cell_type": "code",
   "execution_count": 34,
   "metadata": {},
   "outputs": [],
   "source": [
    "from sklearn.model_selection import train_test_split\n",
    "X_train_LR, X_test_LR, y_train_LR, y_test_LR = train_test_split(X_train_logreg, y, test_size = .3, random_state =0, stratify =y )"
   ]
  },
  {
   "cell_type": "code",
   "execution_count": 35,
   "metadata": {},
   "outputs": [],
   "source": [
    "from sklearn.preprocessing import StandardScaler\n",
    "scaler = preprocessing.StandardScaler().fit(X_train_LR.iloc[:,0:26])\n",
    "X_train_LR.iloc[:,0:26] = scaler.transform(X_train_LR.iloc[:,0:26])\n",
    "X_test_LR.iloc[:,0:26] = scaler.transform(X_test_LR.iloc[:,0:26])"
   ]
  },
  {
   "cell_type": "code",
   "execution_count": 36,
   "metadata": {},
   "outputs": [
    {
     "data": {
      "text/plain": [
       "LogisticRegression(max_iter=1000, random_state=0)"
      ]
     },
     "execution_count": 36,
     "metadata": {},
     "output_type": "execute_result"
    }
   ],
   "source": [
    "#-------------------------------- Model training -------------------------------#\n",
    "\n",
    "#type your code to build logistic regression model on training data set\n",
    "\n",
    "from sklearn.linear_model import LogisticRegression\n",
    "logreg_mod = linear_model.LogisticRegression(max_iter=1000, random_state=0) \n",
    "logreg_mod.fit(X_train_LR, y_train)"
   ]
  },
  {
   "cell_type": "code",
   "execution_count": 37,
   "metadata": {},
   "outputs": [],
   "source": [
    "from sklearn.metrics import classification_report\n",
    "from sklearn.metrics import accuracy_score\n",
    "predictions = logreg_mod.predict(X_test_LR)"
   ]
  },
  {
   "cell_type": "code",
   "execution_count": 39,
   "metadata": {},
   "outputs": [
    {
     "name": "stdout",
     "output_type": "stream",
     "text": [
      "Accuracy: 0.5782075471698114\n",
      "              precision    recall  f1-score   support\n",
      "\n",
      "           0       0.58      0.59      0.58     10600\n",
      "           1       0.58      0.57      0.57     10600\n",
      "\n",
      "    accuracy                           0.58     21200\n",
      "   macro avg       0.58      0.58      0.58     21200\n",
      "weighted avg       0.58      0.58      0.58     21200\n",
      "\n"
     ]
    }
   ],
   "source": [
    "#Evaluate model accuracy using fitted y value and actual y_test\n",
    "#Evaluation metrics to be used - GINI, Precision, Recall, confusion matrix\n",
    "\n",
    "accuracy = accuracy_score(y_test, predictions)\n",
    "print('Accuracy:', accuracy)\n",
    "print(classification_report(y_test,predictions))"
   ]
  },
  {
   "cell_type": "code",
   "execution_count": 40,
   "metadata": {},
   "outputs": [
    {
     "name": "stdout",
     "output_type": "stream",
     "text": [
      "[[0.62411976 0.37588024]\n",
      " [0.55008697 0.44991303]\n",
      " [0.36280348 0.63719652]\n",
      " [0.48032286 0.51967714]\n",
      " [0.56203102 0.43796898]\n",
      " [0.51829851 0.48170149]\n",
      " [0.53904166 0.46095834]\n",
      " [0.59598637 0.40401363]\n",
      " [0.39954636 0.60045364]\n",
      " [0.57915282 0.42084718]\n",
      " [0.62238753 0.37761247]\n",
      " [0.50176559 0.49823441]\n",
      " [0.38204617 0.61795383]\n",
      " [0.55673753 0.44326247]\n",
      " [0.51269274 0.48730726]]\n"
     ]
    }
   ],
   "source": [
    "probabilities = logreg_mod.predict_proba(X_test_LR)\n",
    "print(probabilities[:15,:])"
   ]
  },
  {
   "cell_type": "code",
   "execution_count": null,
   "metadata": {},
   "outputs": [],
   "source": [
    "#Use a probability threshold to classify customers as churners and non churners (Default = 0.5)"
   ]
  },
  {
   "cell_type": "code",
   "execution_count": 41,
   "metadata": {},
   "outputs": [
    {
     "name": "stdout",
     "output_type": "stream",
     "text": [
      "[0 0 1 1 0 0 0 0 1 0 0 0 1 0 0]\n",
      "[[0]\n",
      " [0]\n",
      " [1]\n",
      " [0]\n",
      " [1]\n",
      " [0]\n",
      " [0]\n",
      " [0]\n",
      " [1]\n",
      " [1]\n",
      " [1]\n",
      " [1]\n",
      " [1]\n",
      " [1]\n",
      " [1]]\n"
     ]
    }
   ],
   "source": [
    "def score_model(probs, threshold):\n",
    "    return np.array([1 if x > threshold else 0 for x in probs[:,1]])\n",
    "\n",
    "scores = score_model(probabilities,0.5)\n",
    "print(np.array(scores[:15]))\n",
    "print(y_test[:15])"
   ]
  },
  {
   "cell_type": "code",
   "execution_count": 42,
   "metadata": {
    "scrolled": true
   },
   "outputs": [],
   "source": [
    "def print_metrics(labels, scores):\n",
    "    metrics = sklm.precision_recall_fscore_support(labels, scores,zero_division=0)\n",
    "    conf = sklm.confusion_matrix(labels, scores)\n",
    "    print('                 Confusion matrix')\n",
    "    print('                 Score positive    Score negative')\n",
    "    print('Actual positive    %6d' % conf[0,0] + '             %5d' % conf[0,1])\n",
    "    print('Actual negative    %6d' % conf[1,0] + '             %5d' % conf[1,1])\n",
    "    print('')\n",
    "    print('Accuracy  %0.2f' % sklm.accuracy_score(labels, scores))\n",
    "    print(' ')\n",
    "    print('           Positive      Negative')\n",
    "    print('Num case   %6d' % metrics[3][0] + '        %6d' % metrics[3][1])\n",
    "    print('Precision  %6.2f' % metrics[0][0] + '        %6.2f' % metrics[0][1])\n",
    "    print('Recall     %6.2f' % metrics[1][0] + '        %6.2f' % metrics[1][1])\n",
    "    print('F1         %6.2f' % metrics[2][0] + '        %6.2f' % metrics[2][1])"
   ]
  },
  {
   "cell_type": "code",
   "execution_count": 43,
   "metadata": {},
   "outputs": [
    {
     "data": {
      "image/png": "[encoded data removed]",
      "text/plain": [
       "<Figure size 432x288 with 1 Axes>"
      ]
     },
     "metadata": {},
     "output_type": "display_data"
    }
   ],
   "source": [
    "def plot_auc(labels, probs):\n",
    "    ## Compute the false positive rate, true positive rate\n",
    "    ## and threshold along with the AUC\n",
    "    fpr, tpr, threshold = sklm.roc_curve(labels, probs[:,1])\n",
    "    auc = sklm.auc(fpr, tpr)\n",
    "    \n",
    "    ## Plot the result\n",
    "    plt.title('Receiver Operating Characteristic')\n",
    "    plt.plot(fpr, tpr, color = 'orange', label = 'AUC = %0.2f' % auc)\n",
    "    plt.legend(loc = 'lower right')\n",
    "    plt.plot([0, 1], [0, 1],'r--')\n",
    "    plt.xlim([0, 1])\n",
    "    plt.ylim([0, 1])\n",
    "    plt.ylabel('True Positive Rate')\n",
    "    plt.xlabel('False Positive Rate')\n",
    "    plt.show()\n",
    "    \n",
    "plot_auc(y_test, probabilities) "
   ]
  },
  {
   "cell_type": "markdown",
   "metadata": {},
   "source": [
    "We used the ROC curve to evaluate the accuracy of the Linear Regression model. The AUC (area under the curve) is 0.61. Since this is not that far from the baseline value of 0.5, we can deduce that this model is not useful for predicting customer churn."
   ]
  },
  {
   "cell_type": "code",
   "execution_count": 44,
   "metadata": {},
   "outputs": [
    {
     "name": "stdout",
     "output_type": "stream",
     "text": [
      "The GINI coefficient is 0.21999999999999997\n"
     ]
    }
   ],
   "source": [
    "print('The GINI coefficient is', 2*0.61 -1)"
   ]
  },
  {
   "cell_type": "code",
   "execution_count": 45,
   "metadata": {},
   "outputs": [
    {
     "name": "stdout",
     "output_type": "stream",
     "text": [
      "                 Confusion matrix\n",
      "                 Score positive    Score negative\n",
      "Actual positive      6255              4345\n",
      "Actual negative      4597              6003\n",
      "\n",
      "Accuracy  0.58\n",
      " \n",
      "           Positive      Negative\n",
      "Num case    10600         10600\n",
      "Precision    0.58          0.58\n",
      "Recall       0.59          0.57\n",
      "F1           0.58          0.57\n"
     ]
    }
   ],
   "source": [
    "print_metrics(y_test, scores) "
   ]
  },
  {
   "cell_type": "markdown",
   "metadata": {
    "id": "EtcXcunxd14r"
   },
   "source": [
    "### Q4.2 Build Random Forest classifier to compare model accuracy over the logistic regression model\n"
   ]
  },
  {
   "cell_type": "code",
   "execution_count": 46,
   "metadata": {
    "executionInfo": {
     "elapsed": 13,
     "status": "aborted",
     "timestamp": 1630564690263,
     "user": {
      "displayName": "Chandni Jaga",
      "photoUrl": "https://lh3.googleusercontent.com/a-/AOh14Gh50a-5omL5lMwUSA0VOsdWxm-vZcoemMztw4tbhSA=s64",
      "userId": "17270050648629146011"
     },
     "user_tz": -480
    },
    "id": "jkXqfMNBd14r"
   },
   "outputs": [
    {
     "data": {
      "text/plain": [
       "RandomForestClassifier(max_depth=60, n_estimators=300, n_jobs=-1,\n",
       "                       oob_score=True, random_state=50)"
      ]
     },
     "execution_count": 46,
     "metadata": {},
     "output_type": "execute_result"
    }
   ],
   "source": [
    "#-------------------------------- Model training -------------------------------#\n",
    "#type your code to build random forest classifier model on training data set\n",
    "\n",
    "from sklearn.ensemble import RandomForestClassifier\n",
    "\n",
    "rfc_300 = RandomForestClassifier(n_estimators=300,max_depth= 60,n_jobs=-1,random_state=50, oob_score = True )\n",
    "rfc_300.fit(X_train, y_train)"
   ]
  },
  {
   "cell_type": "code",
   "execution_count": 47,
   "metadata": {
    "executionInfo": {
     "elapsed": 13,
     "status": "aborted",
     "timestamp": 1630564690263,
     "user": {
      "displayName": "Chandni Jaga",
      "photoUrl": "https://lh3.googleusercontent.com/a-/AOh14Gh50a-5omL5lMwUSA0VOsdWxm-vZcoemMztw4tbhSA=s64",
      "userId": "17270050648629146011"
     },
     "user_tz": -480
    },
    "id": "4Fbkwf1Fd14r",
    "scrolled": true
   },
   "outputs": [
    {
     "name": "stdout",
     "output_type": "stream",
     "text": [
      "              precision    recall  f1-score   support\n",
      "\n",
      "           0       0.87      0.90      0.89     10600\n",
      "           1       0.90      0.87      0.88     10600\n",
      "\n",
      "    accuracy                           0.89     21200\n",
      "   macro avg       0.89      0.89      0.89     21200\n",
      "weighted avg       0.89      0.89      0.89     21200\n",
      "\n"
     ]
    }
   ],
   "source": [
    "#-------------------------------- Model testing ---------------------------------#\n",
    "\n",
    "#type your code here to predict for X_test data set using the fitted RF model\n",
    "\n",
    "y_pred_rfc300 = rfc_300.predict(X_test)\n",
    "\n",
    "#Evaluate model accuracy using fitted y value and actual y_test\n",
    "#Evaluation metrics to be used - GINI, Precision, Recall, confusion matrix\n",
    "\n",
    "from sklearn.metrics import classification_report\n",
    "print(classification_report(y_test,y_pred_rfc300))"
   ]
  },
  {
   "cell_type": "code",
   "execution_count": 48,
   "metadata": {},
   "outputs": [
    {
     "data": {
      "text/plain": [
       "array([0.27666667, 0.37333333, 0.94333333, ..., 0.36333333, 0.34666667,\n",
       "       0.93666667])"
      ]
     },
     "execution_count": 48,
     "metadata": {},
     "output_type": "execute_result"
    }
   ],
   "source": [
    "y_predproba = rfc_300.predict_proba(X_test)[:,1]\n",
    "y_predproba"
   ]
  },
  {
   "cell_type": "code",
   "execution_count": 49,
   "metadata": {},
   "outputs": [
    {
     "name": "stdout",
     "output_type": "stream",
     "text": [
      "Confusion matrix\n",
      "\n",
      " [[9580 1020]\n",
      " [1410 9190]]\n"
     ]
    }
   ],
   "source": [
    "# Print the Confusion Matrix and slice it into four pieces\n",
    "\n",
    "from sklearn.metrics import confusion_matrix\n",
    "\n",
    "cm = confusion_matrix(y_test, y_pred_rfc300)\n",
    "print('Confusion matrix\\n\\n', cm)"
   ]
  },
  {
   "cell_type": "code",
   "execution_count": 50,
   "metadata": {},
   "outputs": [
    {
     "data": {
      "image/png": "[encoded data removed]",
      "text/plain": [
       "<Figure size 432x288 with 2 Axes>"
      ]
     },
     "metadata": {},
     "output_type": "display_data"
    }
   ],
   "source": [
    "# visualize confusion matrix with seaborn heatmap\n",
    "\n",
    "cm_matrix = pd.DataFrame(data=cm, columns=['Predicted No Churn:0', 'Predicted Churn:1'], \n",
    "                                  index=['Actual No Churn:0', 'Actual Churn:1'])\n",
    "\n",
    "sns.heatmap(cm_matrix,annot=True, fmt='d', cmap='PiYG'); #'YlGnBu'"
   ]
  },
  {
   "cell_type": "code",
   "execution_count": 51,
   "metadata": {},
   "outputs": [
    {
     "data": {
      "image/png": "[encoded data removed]",
      "text/plain": [
       "<Figure size 500x500 with 1 Axes>"
      ]
     },
     "metadata": {},
     "output_type": "display_data"
    }
   ],
   "source": [
    "# Plot ROC and compare AUC\n",
    "from sklearn.metrics import roc_curve,auc\n",
    "\n",
    "rf_fpr, rf_tpr, threshold = roc_curve(y_test, y_pred_rfc300)\n",
    "rf_auc = auc(rf_fpr,rf_tpr)\n",
    "\n",
    "plt.figure(figsize=(5,5), dpi=100)\n",
    "plt.plot(rf_fpr,rf_tpr,marker = '.',label='Logistic (AUC=%0.3f)' % rf_auc)\n",
    "\n",
    "plt.xlabel('False Positive Rate --->')\n",
    "plt.ylabel('True Positive Rate --->')\n",
    "\n",
    "plt.legend()\n",
    "plt.show();"
   ]
  },
  {
   "cell_type": "code",
   "execution_count": 52,
   "metadata": {},
   "outputs": [
    {
     "name": "stdout",
     "output_type": "stream",
     "text": [
      "The GINI coefficient is 0.772\n"
     ]
    }
   ],
   "source": [
    "print('The GINI coefficient is', 2*0.886-1)"
   ]
  },
  {
   "cell_type": "markdown",
   "metadata": {
    "id": "x5f5cgfgd14r"
   },
   "source": [
    "<mark>__Result:__\n",
    "    \n",
    "We used the following 2  metrics to evaluate our models:\n",
    "1. Recall - Besides Precision, having a higher Recall is important as False Negatives can cause the telco providers not to take actions to prevent potential churners, leading to a loss in revenues and shrink in subscriber base.\n",
    "2. The Gini coefficient of the Random Forest is 0.772 compared to 0.219 showing it is a better model in accurately predicting churners.\n",
    "    \n",
    "2. Thus we will use the RANDOM FOREST CLASSIFIER to predict churn as it has a higher Recall of 0.87 versus the Logistic Regression model which has a Recall of 0.57."
   ]
  },
  {
   "cell_type": "markdown",
   "metadata": {
    "id": "mp8avhEQd14s"
   },
   "source": [
    "### Q4.3 Identify most important features impacting churn"
   ]
  },
  {
   "cell_type": "code",
   "execution_count": 53,
   "metadata": {},
   "outputs": [],
   "source": [
    "# Type your code here to plot the top 20 important predictor features impacting churn using the Random Forest model created\n",
    "\n",
    "col_names = X_train.columns\n",
    "rfc_300_top20 = pd.Series(rfc_300.feature_importances_,index = col_names).sort_values(ascending = False)[:20]\n",
    "top20 =rfc_300_top20.sort_values(ascending = False).index.tolist() # saves list for later"
   ]
  },
  {
   "cell_type": "code",
   "execution_count": 54,
   "metadata": {},
   "outputs": [
    {
     "data": {
      "image/png": "[encoded data removed]",
      "text/plain": [
       "<Figure size 2160x1440 with 1 Axes>"
      ]
     },
     "metadata": {},
     "output_type": "display_data"
    }
   ],
   "source": [
    "plt.figure(figsize = (30, 20))\n",
    "rfc_300_top20.sort_values().plot.barh()\n",
    "plt.title ('Top 20 Most Important features impacting Churn', fontsize = 25)\n",
    "plt.xticks(fontsize = 15)\n",
    "plt.yticks(fontsize = 15);"
   ]
  },
  {
   "cell_type": "markdown",
   "metadata": {
    "id": "T471z0FNd14s"
   },
   "source": [
    "## Q5. Use the hold out data provided to predict churners using the best model identified in step 4 "
   ]
  },
  {
   "cell_type": "code",
   "execution_count": 56,
   "metadata": {
    "executionInfo": {
     "elapsed": 13,
     "status": "aborted",
     "timestamp": 1630564690263,
     "user": {
      "displayName": "Chandni Jaga",
      "photoUrl": "https://lh3.googleusercontent.com/a-/AOh14Gh50a-5omL5lMwUSA0VOsdWxm-vZcoemMztw4tbhSA=s64",
      "userId": "17270050648629146011"
     },
     "user_tz": -480
    },
    "id": "yK6XIB5Id14s"
   },
   "outputs": [],
   "source": [
    "#Type your code here to predict churners based on the hold out data set provided\n",
    "#Note #1: use \"create_features(cust_df)\" functions to create the additional list of features in the hold out data set\n",
    "#Note #2: Also, perform feature scaling and dummy variables creation as performed during the initial stages of step #4\n",
    "\n",
    "#Use \"predict\" function on the transformend data using the best fitted model object\n",
    "#edit the file location of raw data set\n",
    "cust_df_hold =pd.read_csv('Mini_project_3_Hold_Out_Data.csv')"
   ]
  },
  {
   "cell_type": "code",
   "execution_count": 57,
   "metadata": {},
   "outputs": [
    {
     "data": {
      "text/plain": [
       "(20000, 58)"
      ]
     },
     "execution_count": 57,
     "metadata": {},
     "output_type": "execute_result"
    }
   ],
   "source": [
    "cust_df_hold.shape # 20 000 rows, 58 columns"
   ]
  },
  {
   "cell_type": "code",
   "execution_count": 58,
   "metadata": {},
   "outputs": [],
   "source": [
    "# Drop the NaNs\n",
    "cust_df_hold_clean = cust_df_hold.dropna(subset =['MonthlyRevenue', 'MonthlyMinutes','PercChangeMinutes'])"
   ]
  },
  {
   "cell_type": "code",
   "execution_count": 59,
   "metadata": {},
   "outputs": [
    {
     "data": {
      "text/plain": [
       "(19865, 58)"
      ]
     },
     "execution_count": 59,
     "metadata": {},
     "output_type": "execute_result"
    }
   ],
   "source": [
    "cust_df_hold_clean.shape # 19865 x 58"
   ]
  },
  {
   "cell_type": "code",
   "execution_count": 60,
   "metadata": {},
   "outputs": [
    {
     "data": {
      "text/html": [
       "<div>\n",
       "<style scoped>\n",
       "    .dataframe tbody tr th:only-of-type {\n",
       "        vertical-align: middle;\n",
       "    }\n",
       "\n",
       "    .dataframe tbody tr th {\n",
       "        vertical-align: top;\n",
       "    }\n",
       "\n",
       "    .dataframe thead th {\n",
       "        text-align: right;\n",
       "    }\n",
       "</style>\n",
       "<table border=\"1\" class=\"dataframe\">\n",
       "  <thead>\n",
       "    <tr style=\"text-align: right;\">\n",
       "      <th></th>\n",
       "      <th>CustomerID</th>\n",
       "      <th>Churn</th>\n",
       "      <th>MonthlyRevenue</th>\n",
       "      <th>MonthlyMinutes</th>\n",
       "      <th>TotalRecurringCharge</th>\n",
       "      <th>DirectorAssistedCalls</th>\n",
       "      <th>OverageMinutes</th>\n",
       "      <th>RoamingCalls</th>\n",
       "      <th>PercChangeMinutes</th>\n",
       "      <th>PercChangeRevenues</th>\n",
       "      <th>...</th>\n",
       "      <th>AdjustmentsToCreditRating</th>\n",
       "      <th>HandsetPrice</th>\n",
       "      <th>MadeCallToRetentionTeam</th>\n",
       "      <th>CreditRating</th>\n",
       "      <th>PrizmCode</th>\n",
       "      <th>Occupation</th>\n",
       "      <th>MaritalStatus</th>\n",
       "      <th>perc_active_subs</th>\n",
       "      <th>perc_recurrent_charge</th>\n",
       "      <th>perc_overage_minute</th>\n",
       "    </tr>\n",
       "  </thead>\n",
       "  <tbody>\n",
       "    <tr>\n",
       "      <th>0</th>\n",
       "      <td>3000006</td>\n",
       "      <td>NaN</td>\n",
       "      <td>57.49</td>\n",
       "      <td>483.0</td>\n",
       "      <td>37.0</td>\n",
       "      <td>0.25</td>\n",
       "      <td>23.0</td>\n",
       "      <td>0.0</td>\n",
       "      <td>532.0</td>\n",
       "      <td>51.0</td>\n",
       "      <td>...</td>\n",
       "      <td>1</td>\n",
       "      <td>150</td>\n",
       "      <td>No</td>\n",
       "      <td>5-Low</td>\n",
       "      <td>Other</td>\n",
       "      <td>Other</td>\n",
       "      <td>No</td>\n",
       "      <td>100.000000</td>\n",
       "      <td>64.359019</td>\n",
       "      <td>4.761905</td>\n",
       "    </tr>\n",
       "    <tr>\n",
       "      <th>1</th>\n",
       "      <td>3000018</td>\n",
       "      <td>NaN</td>\n",
       "      <td>55.23</td>\n",
       "      <td>570.0</td>\n",
       "      <td>72.0</td>\n",
       "      <td>0.00</td>\n",
       "      <td>0.0</td>\n",
       "      <td>0.0</td>\n",
       "      <td>38.0</td>\n",
       "      <td>0.0</td>\n",
       "      <td>...</td>\n",
       "      <td>2</td>\n",
       "      <td>80</td>\n",
       "      <td>No</td>\n",
       "      <td>1-Highest</td>\n",
       "      <td>Other</td>\n",
       "      <td>Professional</td>\n",
       "      <td>No</td>\n",
       "      <td>100.000000</td>\n",
       "      <td>130.363933</td>\n",
       "      <td>0.000000</td>\n",
       "    </tr>\n",
       "    <tr>\n",
       "      <th>2</th>\n",
       "      <td>3000034</td>\n",
       "      <td>NaN</td>\n",
       "      <td>97.34</td>\n",
       "      <td>1039.0</td>\n",
       "      <td>50.0</td>\n",
       "      <td>4.95</td>\n",
       "      <td>420.0</td>\n",
       "      <td>0.0</td>\n",
       "      <td>198.0</td>\n",
       "      <td>23.3</td>\n",
       "      <td>...</td>\n",
       "      <td>3</td>\n",
       "      <td>10</td>\n",
       "      <td>No</td>\n",
       "      <td>3-Good</td>\n",
       "      <td>Suburban</td>\n",
       "      <td>Crafts</td>\n",
       "      <td>Yes</td>\n",
       "      <td>100.000000</td>\n",
       "      <td>51.366345</td>\n",
       "      <td>40.423484</td>\n",
       "    </tr>\n",
       "    <tr>\n",
       "      <th>3</th>\n",
       "      <td>3000070</td>\n",
       "      <td>NaN</td>\n",
       "      <td>35.59</td>\n",
       "      <td>153.0</td>\n",
       "      <td>30.0</td>\n",
       "      <td>0.00</td>\n",
       "      <td>16.0</td>\n",
       "      <td>0.0</td>\n",
       "      <td>30.0</td>\n",
       "      <td>7.3</td>\n",
       "      <td>...</td>\n",
       "      <td>1</td>\n",
       "      <td>200</td>\n",
       "      <td>No</td>\n",
       "      <td>1-Highest</td>\n",
       "      <td>Other</td>\n",
       "      <td>Other</td>\n",
       "      <td>No</td>\n",
       "      <td>66.666667</td>\n",
       "      <td>84.293341</td>\n",
       "      <td>10.457516</td>\n",
       "    </tr>\n",
       "    <tr>\n",
       "      <th>4</th>\n",
       "      <td>3000074</td>\n",
       "      <td>NaN</td>\n",
       "      <td>55.27</td>\n",
       "      <td>1213.0</td>\n",
       "      <td>50.0</td>\n",
       "      <td>0.74</td>\n",
       "      <td>0.0</td>\n",
       "      <td>1.3</td>\n",
       "      <td>169.0</td>\n",
       "      <td>1.0</td>\n",
       "      <td>...</td>\n",
       "      <td>0</td>\n",
       "      <td>10</td>\n",
       "      <td>No</td>\n",
       "      <td>1-Highest</td>\n",
       "      <td>Suburban</td>\n",
       "      <td>Other</td>\n",
       "      <td>No</td>\n",
       "      <td>100.000000</td>\n",
       "      <td>90.464990</td>\n",
       "      <td>0.000000</td>\n",
       "    </tr>\n",
       "    <tr>\n",
       "      <th>...</th>\n",
       "      <td>...</td>\n",
       "      <td>...</td>\n",
       "      <td>...</td>\n",
       "      <td>...</td>\n",
       "      <td>...</td>\n",
       "      <td>...</td>\n",
       "      <td>...</td>\n",
       "      <td>...</td>\n",
       "      <td>...</td>\n",
       "      <td>...</td>\n",
       "      <td>...</td>\n",
       "      <td>...</td>\n",
       "      <td>...</td>\n",
       "      <td>...</td>\n",
       "      <td>...</td>\n",
       "      <td>...</td>\n",
       "      <td>...</td>\n",
       "      <td>...</td>\n",
       "      <td>...</td>\n",
       "      <td>...</td>\n",
       "      <td>...</td>\n",
       "    </tr>\n",
       "    <tr>\n",
       "      <th>19986</th>\n",
       "      <td>3399818</td>\n",
       "      <td>NaN</td>\n",
       "      <td>30.00</td>\n",
       "      <td>321.0</td>\n",
       "      <td>30.0</td>\n",
       "      <td>0.00</td>\n",
       "      <td>0.0</td>\n",
       "      <td>0.0</td>\n",
       "      <td>0.0</td>\n",
       "      <td>0.0</td>\n",
       "      <td>...</td>\n",
       "      <td>0</td>\n",
       "      <td>30</td>\n",
       "      <td>No</td>\n",
       "      <td>3-Good</td>\n",
       "      <td>Other</td>\n",
       "      <td>Other</td>\n",
       "      <td>Yes</td>\n",
       "      <td>100.000000</td>\n",
       "      <td>100.000000</td>\n",
       "      <td>0.000000</td>\n",
       "    </tr>\n",
       "    <tr>\n",
       "      <th>19987</th>\n",
       "      <td>3399826</td>\n",
       "      <td>NaN</td>\n",
       "      <td>16.99</td>\n",
       "      <td>0.0</td>\n",
       "      <td>17.0</td>\n",
       "      <td>0.00</td>\n",
       "      <td>0.0</td>\n",
       "      <td>0.0</td>\n",
       "      <td>0.0</td>\n",
       "      <td>0.0</td>\n",
       "      <td>...</td>\n",
       "      <td>0</td>\n",
       "      <td>Unknown</td>\n",
       "      <td>No</td>\n",
       "      <td>1-Highest</td>\n",
       "      <td>Suburban</td>\n",
       "      <td>Professional</td>\n",
       "      <td>No</td>\n",
       "      <td>100.000000</td>\n",
       "      <td>100.058858</td>\n",
       "      <td>0.000000</td>\n",
       "    </tr>\n",
       "    <tr>\n",
       "      <th>19989</th>\n",
       "      <td>3399854</td>\n",
       "      <td>NaN</td>\n",
       "      <td>41.84</td>\n",
       "      <td>351.0</td>\n",
       "      <td>30.0</td>\n",
       "      <td>0.99</td>\n",
       "      <td>31.0</td>\n",
       "      <td>0.0</td>\n",
       "      <td>0.0</td>\n",
       "      <td>0.0</td>\n",
       "      <td>...</td>\n",
       "      <td>0</td>\n",
       "      <td>150</td>\n",
       "      <td>No</td>\n",
       "      <td>4-Medium</td>\n",
       "      <td>Other</td>\n",
       "      <td>Other</td>\n",
       "      <td>Yes</td>\n",
       "      <td>100.000000</td>\n",
       "      <td>71.701721</td>\n",
       "      <td>8.831909</td>\n",
       "    </tr>\n",
       "    <tr>\n",
       "      <th>19991</th>\n",
       "      <td>3399862</td>\n",
       "      <td>NaN</td>\n",
       "      <td>83.90</td>\n",
       "      <td>825.0</td>\n",
       "      <td>85.0</td>\n",
       "      <td>8.91</td>\n",
       "      <td>0.0</td>\n",
       "      <td>0.0</td>\n",
       "      <td>0.0</td>\n",
       "      <td>0.0</td>\n",
       "      <td>...</td>\n",
       "      <td>1</td>\n",
       "      <td>30</td>\n",
       "      <td>No</td>\n",
       "      <td>3-Good</td>\n",
       "      <td>Other</td>\n",
       "      <td>Professional</td>\n",
       "      <td>No</td>\n",
       "      <td>100.000000</td>\n",
       "      <td>101.311085</td>\n",
       "      <td>0.000000</td>\n",
       "    </tr>\n",
       "    <tr>\n",
       "      <th>19995</th>\n",
       "      <td>3399938</td>\n",
       "      <td>NaN</td>\n",
       "      <td>85.15</td>\n",
       "      <td>815.0</td>\n",
       "      <td>88.0</td>\n",
       "      <td>0.00</td>\n",
       "      <td>1.0</td>\n",
       "      <td>0.4</td>\n",
       "      <td>0.0</td>\n",
       "      <td>0.0</td>\n",
       "      <td>...</td>\n",
       "      <td>0</td>\n",
       "      <td>40</td>\n",
       "      <td>No</td>\n",
       "      <td>1-Highest</td>\n",
       "      <td>Other</td>\n",
       "      <td>Other</td>\n",
       "      <td>Unknown</td>\n",
       "      <td>66.666667</td>\n",
       "      <td>103.347035</td>\n",
       "      <td>0.122699</td>\n",
       "    </tr>\n",
       "  </tbody>\n",
       "</table>\n",
       "<p>19865 rows × 61 columns</p>\n",
       "</div>"
      ],
      "text/plain": [
       "       CustomerID  Churn  MonthlyRevenue  MonthlyMinutes  \\\n",
       "0         3000006    NaN           57.49           483.0   \n",
       "1         3000018    NaN           55.23           570.0   \n",
       "2         3000034    NaN           97.34          1039.0   \n",
       "3         3000070    NaN           35.59           153.0   \n",
       "4         3000074    NaN           55.27          1213.0   \n",
       "...           ...    ...             ...             ...   \n",
       "19986     3399818    NaN           30.00           321.0   \n",
       "19987     3399826    NaN           16.99             0.0   \n",
       "19989     3399854    NaN           41.84           351.0   \n",
       "19991     3399862    NaN           83.90           825.0   \n",
       "19995     3399938    NaN           85.15           815.0   \n",
       "\n",
       "       TotalRecurringCharge  DirectorAssistedCalls  OverageMinutes  \\\n",
       "0                      37.0                   0.25            23.0   \n",
       "1                      72.0                   0.00             0.0   \n",
       "2                      50.0                   4.95           420.0   \n",
       "3                      30.0                   0.00            16.0   \n",
       "4                      50.0                   0.74             0.0   \n",
       "...                     ...                    ...             ...   \n",
       "19986                  30.0                   0.00             0.0   \n",
       "19987                  17.0                   0.00             0.0   \n",
       "19989                  30.0                   0.99            31.0   \n",
       "19991                  85.0                   8.91             0.0   \n",
       "19995                  88.0                   0.00             1.0   \n",
       "\n",
       "       RoamingCalls  PercChangeMinutes  PercChangeRevenues  ...  \\\n",
       "0               0.0              532.0                51.0  ...   \n",
       "1               0.0               38.0                 0.0  ...   \n",
       "2               0.0              198.0                23.3  ...   \n",
       "3               0.0               30.0                 7.3  ...   \n",
       "4               1.3              169.0                 1.0  ...   \n",
       "...             ...                ...                 ...  ...   \n",
       "19986           0.0                0.0                 0.0  ...   \n",
       "19987           0.0                0.0                 0.0  ...   \n",
       "19989           0.0                0.0                 0.0  ...   \n",
       "19991           0.0                0.0                 0.0  ...   \n",
       "19995           0.4                0.0                 0.0  ...   \n",
       "\n",
       "       AdjustmentsToCreditRating  HandsetPrice  MadeCallToRetentionTeam  \\\n",
       "0                              1           150                       No   \n",
       "1                              2            80                       No   \n",
       "2                              3            10                       No   \n",
       "3                              1           200                       No   \n",
       "4                              0            10                       No   \n",
       "...                          ...           ...                      ...   \n",
       "19986                          0            30                       No   \n",
       "19987                          0       Unknown                       No   \n",
       "19989                          0           150                       No   \n",
       "19991                          1            30                       No   \n",
       "19995                          0            40                       No   \n",
       "\n",
       "       CreditRating  PrizmCode    Occupation  MaritalStatus  perc_active_subs  \\\n",
       "0             5-Low      Other         Other             No        100.000000   \n",
       "1         1-Highest      Other  Professional             No        100.000000   \n",
       "2            3-Good   Suburban        Crafts            Yes        100.000000   \n",
       "3         1-Highest      Other         Other             No         66.666667   \n",
       "4         1-Highest   Suburban         Other             No        100.000000   \n",
       "...             ...        ...           ...            ...               ...   \n",
       "19986        3-Good      Other         Other            Yes        100.000000   \n",
       "19987     1-Highest   Suburban  Professional             No        100.000000   \n",
       "19989      4-Medium      Other         Other            Yes        100.000000   \n",
       "19991        3-Good      Other  Professional             No        100.000000   \n",
       "19995     1-Highest      Other         Other        Unknown         66.666667   \n",
       "\n",
       "       perc_recurrent_charge  perc_overage_minute  \n",
       "0                  64.359019             4.761905  \n",
       "1                 130.363933             0.000000  \n",
       "2                  51.366345            40.423484  \n",
       "3                  84.293341            10.457516  \n",
       "4                  90.464990             0.000000  \n",
       "...                      ...                  ...  \n",
       "19986             100.000000             0.000000  \n",
       "19987             100.058858             0.000000  \n",
       "19989              71.701721             8.831909  \n",
       "19991             101.311085             0.000000  \n",
       "19995             103.347035             0.122699  \n",
       "\n",
       "[19865 rows x 61 columns]"
      ]
     },
     "execution_count": 60,
     "metadata": {},
     "output_type": "execute_result"
    }
   ],
   "source": [
    "create_features(cust_df_hold_clean) "
   ]
  },
  {
   "cell_type": "code",
   "execution_count": 61,
   "metadata": {},
   "outputs": [],
   "source": [
    "cust_df_hold_20=cust_df_hold_clean.loc[:,top20]"
   ]
  },
  {
   "cell_type": "code",
   "execution_count": 62,
   "metadata": {},
   "outputs": [
    {
     "data": {
      "text/plain": [
       "(19865, 20)"
      ]
     },
     "execution_count": 62,
     "metadata": {},
     "output_type": "execute_result"
    }
   ],
   "source": [
    "cust_df_hold_20.shape # 19865 rows with 20 columns"
   ]
  },
  {
   "cell_type": "code",
   "execution_count": 63,
   "metadata": {},
   "outputs": [
    {
     "data": {
      "text/plain": [
       "0"
      ]
     },
     "execution_count": 63,
     "metadata": {},
     "output_type": "execute_result"
    }
   ],
   "source": [
    "cust_df_hold_20.isnull().sum().sum() # no nulls"
   ]
  },
  {
   "cell_type": "code",
   "execution_count": 64,
   "metadata": {},
   "outputs": [],
   "source": [
    "## Ran the Random Forest again with the top 20 columns\n",
    "X_train_20 = X_train.loc[:,top20]\n",
    "X_test_hold = cust_df_hold_20"
   ]
  },
  {
   "cell_type": "code",
   "execution_count": 65,
   "metadata": {},
   "outputs": [
    {
     "data": {
      "text/plain": [
       "RandomForestClassifier(max_depth=60, n_estimators=300, n_jobs=-1,\n",
       "                       oob_score=True, random_state=50)"
      ]
     },
     "execution_count": 65,
     "metadata": {},
     "output_type": "execute_result"
    }
   ],
   "source": [
    "from sklearn.ensemble import RandomForestClassifier\n",
    "\n",
    "rfc_300_top20 = RandomForestClassifier(n_estimators=300,max_depth= 60,n_jobs=-1,random_state=50, oob_score = True )\n",
    "rfc_300_top20.fit(X_train_20, y_train)"
   ]
  },
  {
   "cell_type": "code",
   "execution_count": 66,
   "metadata": {},
   "outputs": [],
   "source": [
    "y_pred_rfc300_top20 = rfc_300_top20.predict(X_test_hold)"
   ]
  },
  {
   "cell_type": "code",
   "execution_count": 71,
   "metadata": {},
   "outputs": [
    {
     "data": {
      "text/plain": [
       "16961"
      ]
     },
     "execution_count": 71,
     "metadata": {},
     "output_type": "execute_result"
    },
    {
     "data": {
      "text/plain": [
       "2904"
      ]
     },
     "execution_count": 71,
     "metadata": {},
     "output_type": "execute_result"
    }
   ],
   "source": [
    "np.count_nonzero(y_pred_rfc300_top20 == 0)\n",
    "np.count_nonzero(y_pred_rfc300_top20 == 1)"
   ]
  },
  {
   "cell_type": "markdown",
   "metadata": {
    "id": "EYgLEygId14s"
   },
   "source": [
    "## Q6. [Bonus Question] Calculate lift chart and total monthly revenue saved by targeting top 10-20% of the customers using your best predictive model"
   ]
  },
  {
   "cell_type": "markdown",
   "metadata": {},
   "source": [
    "Gains Curve Log Regression"
   ]
  },
  {
   "cell_type": "code",
   "execution_count": null,
   "metadata": {},
   "outputs": [],
   "source": [
    "#Type your code here to plot the lift chart from the best model\n",
    "\n",
    "skplt.metrics.plot_cumulative_gain(y_test, probabilities)\n",
    "plt.show();"
   ]
  },
  {
   "cell_type": "markdown",
   "metadata": {},
   "source": [
    "According to the Cumulative Gains Curve for our Logistic Regression Model, there is not much lift and therefore this model is not the best tool to predict customer churn."
   ]
  },
  {
   "cell_type": "code",
   "execution_count": null,
   "metadata": {
    "executionInfo": {
     "elapsed": 14,
     "status": "aborted",
     "timestamp": 1630564690264,
     "user": {
      "displayName": "Chandni Jaga",
      "photoUrl": "https://lh3.googleusercontent.com/a-/AOh14Gh50a-5omL5lMwUSA0VOsdWxm-vZcoemMztw4tbhSA=s64",
      "userId": "17270050648629146011"
     },
     "user_tz": -480
    },
    "id": "u5Y_1HU8d14t"
   },
   "outputs": [],
   "source": [
    "#Identify the lift i.e. 3x of capturing churn with and without using the model \n",
    "\n",
    "#(Assume: only top 20% high risk customers are to be targetted)"
   ]
  },
  {
   "cell_type": "markdown",
   "metadata": {
    "id": "7clQyrf0d14t"
   },
   "source": [
    "<mark>__Result:__\n",
    "    \n",
    "1. What is the % actual churn captured by targeting top 20% (top 2 deciles) of the customers sorted by their churn probability?\n",
    "2. What is the total monthly revenue of actual churn customers identified in the top 20% of the customers?\n",
    "   "
   ]
  }
 ],
 "metadata": {
  "colab": {
   "collapsed_sections": [],
   "name": "Mini Project 3_Group 9_Draft 1.ipynb",
   "provenance": [],
   "toc_visible": true
  },
  "kernelspec": {
   "display_name": "Python 3",
   "language": "python",
   "name": "python3"
  },
  "language_info": {
   "codemirror_mode": {
    "name": "ipython",
    "version": 3
   },
   "file_extension": ".py",
   "mimetype": "text/x-python",
   "name": "python",
   "nbconvert_exporter": "python",
   "pygments_lexer": "ipython3",
   "version": "3.8.5"
  }
 },
 "nbformat": 4,
 "nbformat_minor": 1
}
